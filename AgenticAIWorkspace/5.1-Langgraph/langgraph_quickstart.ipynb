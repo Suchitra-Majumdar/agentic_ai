{
 "cells": [
  {
   "cell_type": "markdown",
   "id": "338fe610",
   "metadata": {},
   "source": [
    "## Langgraph Quickstart"
   ]
  },
  {
   "cell_type": "markdown",
   "id": "568ae0f8",
   "metadata": {},
   "source": [
    "#### Prebuilt agent"
   ]
  },
  {
   "cell_type": "code",
   "execution_count": 12,
   "id": "a6891e48",
   "metadata": {},
   "outputs": [
    {
     "data": {
      "text/plain": [
       "{'messages': [HumanMessage(content='What is the weather in New York?', additional_kwargs={}, response_metadata={}, id='7f7d8405-cd79-41f2-8b1d-00df522d421d'),\n",
       "  AIMessage(content='', additional_kwargs={'tool_calls': [{'id': 'call_DOPPnS7gPTqRFIbNZQeOCabf', 'function': {'arguments': '{\"city\":\"New York\"}', 'name': 'get_wearther'}, 'type': 'function'}], 'refusal': None}, response_metadata={'token_usage': {'completion_tokens': 17, 'prompt_tokens': 68, 'total_tokens': 85, 'completion_tokens_details': {'accepted_prediction_tokens': 0, 'audio_tokens': 0, 'reasoning_tokens': 0, 'rejected_prediction_tokens': 0}, 'prompt_tokens_details': {'audio_tokens': 0, 'cached_tokens': 0}}, 'model_name': 'gpt-4o-mini-2024-07-18', 'system_fingerprint': 'fp_560af6e559', 'id': 'chatcmpl-CRycbwPcLrfDWNzkR67hRFEtBKQlk', 'service_tier': 'default', 'finish_reason': 'tool_calls', 'logprobs': None}, id='run--00ed65a5-df42-41bf-aa1e-e491c4abf887-0', tool_calls=[{'name': 'get_wearther', 'args': {'city': 'New York'}, 'id': 'call_DOPPnS7gPTqRFIbNZQeOCabf', 'type': 'tool_call'}], usage_metadata={'input_tokens': 68, 'output_tokens': 17, 'total_tokens': 85, 'input_token_details': {'audio': 0, 'cache_read': 0}, 'output_token_details': {'audio': 0, 'reasoning': 0}}),\n",
       "  ToolMessage(content='it is always sunny in New York', name='get_wearther', id='41439b14-8743-4ba4-befa-39f3d0ea758e', tool_call_id='call_DOPPnS7gPTqRFIbNZQeOCabf'),\n",
       "  AIMessage(content='The weather in New York is sunny.', additional_kwargs={'refusal': None}, response_metadata={'token_usage': {'completion_tokens': 9, 'prompt_tokens': 102, 'total_tokens': 111, 'completion_tokens_details': {'accepted_prediction_tokens': 0, 'audio_tokens': 0, 'reasoning_tokens': 0, 'rejected_prediction_tokens': 0}, 'prompt_tokens_details': {'audio_tokens': 0, 'cached_tokens': 0}}, 'model_name': 'gpt-4o-mini-2024-07-18', 'system_fingerprint': 'fp_51db84afab', 'id': 'chatcmpl-CRycdYkfjkKQPxPGBuWaxnjeceg9p', 'service_tier': 'default', 'finish_reason': 'stop', 'logprobs': None}, id='run--bc32a938-8459-4513-ac72-b6b97f651163-0', usage_metadata={'input_tokens': 102, 'output_tokens': 9, 'total_tokens': 111, 'input_token_details': {'audio': 0, 'cache_read': 0}, 'output_token_details': {'audio': 0, 'reasoning': 0}})]}"
      ]
     },
     "execution_count": 12,
     "metadata": {},
     "output_type": "execute_result"
    }
   ],
   "source": [
    "from langgraph.prebuilt import create_react_agent\n",
    "from langchain_anthropic import ChatAnthropic\n",
    "\n",
    "def get_wearther(city:str)->str:\n",
    "    \"\"\"\n",
    "    Get the weather in a city\n",
    "    \"\"\"\n",
    "\n",
    "    return f\"it is always sunny in {city}\"\n",
    "\n",
    "agent = create_react_agent(\n",
    "    model = 'openai:gpt-4o-mini',\n",
    "    # model = 'anthropic:claude-3-7-sonnet-latest',\n",
    "    tools = [get_wearther],\n",
    "     prompt = \"You are a helpful assistant that provides the current weather in a city.\"\n",
    ")\n",
    "\n",
    "agent.invoke(\n",
    "    {\"messages\":[{\"role\":\"user\",\"content\":\"What is the weather in New York?\"}]}\n",
    "\n",
    ")\n"
   ]
  },
  {
   "cell_type": "code",
   "execution_count": null,
   "id": "e30792c9",
   "metadata": {},
   "outputs": [],
   "source": []
  }
 ],
 "metadata": {
  "kernelspec": {
   "display_name": "Python 3",
   "language": "python",
   "name": "python3"
  },
  "language_info": {
   "codemirror_mode": {
    "name": "ipython",
    "version": 3
   },
   "file_extension": ".py",
   "mimetype": "text/x-python",
   "name": "python",
   "nbconvert_exporter": "python",
   "pygments_lexer": "ipython3",
   "version": "3.12.11"
  }
 },
 "nbformat": 4,
 "nbformat_minor": 5
}
