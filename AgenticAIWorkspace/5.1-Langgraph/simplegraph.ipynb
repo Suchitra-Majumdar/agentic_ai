{
 "cells": [
  {
   "cell_type": "code",
   "execution_count": 1,
   "id": "89059a6a",
   "metadata": {},
   "outputs": [],
   "source": [
    "from typing_extensions import TypedDict\n",
    "\n",
    "class State(TypedDict):\n",
    "    \"\"\"\n",
    "    State of the agent.\n",
    "    \"\"\"\n",
    "    graph_state:str\n"
   ]
  },
  {
   "cell_type": "code",
   "execution_count": 7,
   "id": "48fb7983",
   "metadata": {},
   "outputs": [],
   "source": [
    "##first node is updating the state\n",
    "def first_node(state):\n",
    "    \"\"\"\n",
    "    Get the first node of the graph.\n",
    "    \"\"\"\n",
    "    print(\"My first node is called\")\n",
    "    return {\"graph_state\":state['graph_state']+\"I am playing\"}\n",
    "\n",
    "def second_node(state):\n",
    "    print(\"My second node is called\")\n",
    "    return {'grapph_state':state['graph_state']+ \"cricket\"}\n",
    "\n",
    "def third_node(state):\n",
    "    print(\"My third node is called\")\n",
    "    return {'graph_state':state['graph_state']+\"Badminton\"}"
   ]
  },
  {
   "cell_type": "code",
   "execution_count": 8,
   "id": "5dcdea22",
   "metadata": {},
   "outputs": [],
   "source": [
    "from typing import Literal\n",
    "import random\n",
    "\n",
    "def decide_play(state)->Literal['second_node','third_node']:\n",
    "    \"\"\"\n",
    "    Decode which game to play.\n",
    "    \"\"\"\n",
    "    graph_state = state['graph_state']\n",
    "    \n",
    "    if random.random()<0.5:\n",
    "        return 'second_node'\n",
    "    \n",
    "    return 'third_node'\n",
    "\n",
    "\n",
    "   "
   ]
  },
  {
   "cell_type": "markdown",
   "id": "348cf27c",
   "metadata": {},
   "source": [
    "## Graph"
   ]
  },
  {
   "cell_type": "code",
   "execution_count": null,
   "id": "cf58f90d",
   "metadata": {},
   "outputs": [],
   "source": [
    "## How to instruct the graph to run\n",
    "from IPython.display import Image,display\n",
    "from langgraph.graph import StateGraph,START,END\n",
    "\n",
    "#build the graph\n",
    "builder = StateGraph(State)\n",
    "\n",
    "builder.add_node('first_node',first_node)\n",
    "\n",
    "builder.add_node('second_node',second_node)\n",
    "\n",
    "builder.add_node('third_node',third_node)\n",
    "\n",
    "#Logic\n",
    "\n",
    "builder.add_edge(START,'first_node')\n",
    "\n",
    "builder.add_conditional_edges('first_node',decide_play)\n",
    "\n",
    "builder.add_edge('second_node',END)\n",
    "builder.add_edge('third_node',END)\n",
    "\n",
    "\n",
    "\n"
   ]
  }
 ],
 "metadata": {
  "kernelspec": {
   "display_name": "Python 3",
   "language": "python",
   "name": "python3"
  },
  "language_info": {
   "codemirror_mode": {
    "name": "ipython",
    "version": 3
   },
   "file_extension": ".py",
   "mimetype": "text/x-python",
   "name": "python",
   "nbconvert_exporter": "python",
   "pygments_lexer": "ipython3",
   "version": "3.12.11"
  }
 },
 "nbformat": 4,
 "nbformat_minor": 5
}
